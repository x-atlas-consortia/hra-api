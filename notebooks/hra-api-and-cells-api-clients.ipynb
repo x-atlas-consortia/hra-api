{
 "cells": [
  {
   "cell_type": "markdown",
   "metadata": {},
   "source": [
    "# A notebook to compare the HuBMAP Cells API and the HRA API via their Python clients"
   ]
  },
  {
   "cell_type": "markdown",
   "metadata": {},
   "source": [
    "# Import libraries"
   ]
  },
  {
   "cell_type": "markdown",
   "metadata": {},
   "source": [
    "The preferred way of using the Cells API is via the HuBMAP API client. In this notebook, we use the Python client, see `import` statements below. We also import the HRA API client."
   ]
  },
  {
   "cell_type": "code",
   "execution_count": 1,
   "metadata": {},
   "outputs": [],
   "source": [
    "import hra_api_client\n",
    "import hubmap_api_py_client"
   ]
  },
  {
   "cell_type": "markdown",
   "metadata": {},
   "source": [
    "## Setup"
   ]
  },
  {
   "cell_type": "code",
   "execution_count": 2,
   "metadata": {},
   "outputs": [],
   "source": [
    "from hubmap_api_py_client import Client\n",
    "endpoint_url = \"https://cells.api.hubmapconsortium.org/api/\"\n",
    "client = Client(endpoint_url) "
   ]
  },
  {
   "cell_type": "markdown",
   "metadata": {},
   "source": [
    "## List methods in hubmap-api-pyclient"
   ]
  },
  {
   "cell_type": "code",
   "execution_count": 3,
   "metadata": {},
   "outputs": [
    {
     "data": {
      "text/plain": [
       "['select_cells',\n",
       " 'select_celltypes',\n",
       " 'select_clusters',\n",
       " 'select_datasets',\n",
       " 'select_genes',\n",
       " 'select_organs',\n",
       " 'select_proteins']"
      ]
     },
     "execution_count": 3,
     "metadata": {},
     "output_type": "execute_result"
    }
   ],
   "source": [
    "[m for m in dir(client) if m.startswith('select_')]"
   ]
  },
  {
   "cell_type": "markdown",
   "metadata": {},
   "source": [
    "## Run example code from GitHub"
   ]
  },
  {
   "cell_type": "markdown",
   "metadata": {},
   "source": [
    "We want to run the exampke code at [https://github.com/hubmapconsortium/hubmap-api-py-client/tree/main?tab=readme-ov-file#usage](https://github.com/hubmapconsortium/hubmap-api-py-client/tree/main?tab=readme-ov-file#usage). Concrete, we want to run `select_celltypes`: [https://github.com/hubmapconsortium/hubmap-api-py-client/blob/main/examples/select_celltypes.md](https://github.com/hubmapconsortium/hubmap-api-py-client/blob/main/examples/select_celltypes.md) \n",
    "\n",
    "The README ([https://github.com/hubmapconsortium/hubmap-api-py-client/blob/main/README-Client.txt#L47-L57](https://github.com/hubmapconsortium/hubmap-api-py-client/blob/main/README-Client.txt#L47-L57)) states:\n",
    "\n",
    "```\n",
    " |  select_celltypes lambda self, where=None, has=None\n",
    " |      Select a set of cell types. If no params are provided, selects the set of all cell types.\n",
    " |      Otherwise, selects a set of cell types filtered based on parameters supplied.\n",
    " |      \n",
    " |      Args:\n",
    " |          where (str): The type of entity for which identifiers are supplied as input to query\n",
    " |              Must be one of [\"celltype\", \"dataset\", \"organ\"].\n",
    " |          has (List[str]): A list of entity identifiers supplied as input to the query.\n",
    " |      \n",
    " |      Returns:\n",
    " |          ResultsSet\n",
    " ```"
   ]
  },
  {
   "cell_type": "code",
   "execution_count": 8,
   "metadata": {},
   "outputs": [
    {
     "ename": "TypeError",
     "evalue": "'CelltypeResultsSet' object is not iterable",
     "output_type": "error",
     "traceback": [
      "\u001b[0;31m---------------------------------------------------------------------------\u001b[0m",
      "\u001b[0;31mTypeError\u001b[0m                                 Traceback (most recent call last)",
      "Cell \u001b[0;32mIn[8], line 4\u001b[0m\n\u001b[1;32m      1\u001b[0m all_celltypes \u001b[38;5;241m=\u001b[39m client\u001b[38;5;241m.\u001b[39mselect_celltypes()\n\u001b[1;32m      2\u001b[0m \u001b[38;5;28;01massert\u001b[39;00m \u001b[38;5;28mlen\u001b[39m(all_celltypes) \u001b[38;5;241m>\u001b[39m \u001b[38;5;241m0\u001b[39m\n\u001b[0;32m----> 4\u001b[0m \u001b[38;5;28;43;01mfor\u001b[39;49;00m\u001b[43m \u001b[49m\u001b[43mn\u001b[49m\u001b[43m \u001b[49m\u001b[38;5;129;43;01min\u001b[39;49;00m\u001b[43m \u001b[49m\u001b[43mall_celltypes\u001b[49m\u001b[43m:\u001b[49m\n\u001b[1;32m      5\u001b[0m \u001b[43m  \u001b[49m\u001b[38;5;28;43mprint\u001b[39;49m\u001b[43m(\u001b[49m\u001b[43mn\u001b[49m\u001b[43m)\u001b[49m\n",
      "\u001b[0;31mTypeError\u001b[0m: 'CelltypeResultsSet' object is not iterable"
     ]
    }
   ],
   "source": [
    "all_celltypes = client.select_celltypes()\n",
    "assert len(all_celltypes) > 0"
   ]
  },
  {
   "cell_type": "markdown",
   "metadata": {},
   "source": [
    "## Use Case 1: Check which datasets appear in both APIs"
   ]
  },
  {
   "cell_type": "markdown",
   "metadata": {},
   "source": [
    "Andi will add code to demonstrate this comparison of both the Cells API and the HRA API via their clients."
   ]
  }
 ],
 "metadata": {
  "kernelspec": {
   "display_name": ".venv",
   "language": "python",
   "name": "python3"
  },
  "language_info": {
   "codemirror_mode": {
    "name": "ipython",
    "version": 3
   },
   "file_extension": ".py",
   "mimetype": "text/x-python",
   "name": "python",
   "nbconvert_exporter": "python",
   "pygments_lexer": "ipython3",
   "version": "3.12.4"
  }
 },
 "nbformat": 4,
 "nbformat_minor": 2
}
