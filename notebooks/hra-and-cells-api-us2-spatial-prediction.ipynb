{
 "cells": [
  {
   "cell_type": "markdown",
   "metadata": {},
   "source": [
    "# Using the HuBMAP Cells API and the HRA API for Spatial Prediction"
   ]
  },
  {
   "cell_type": "code",
   "execution_count": null,
   "metadata": {},
   "outputs": [],
   "source": []
  },
  {
   "cell_type": "markdown",
   "metadata": {},
   "source": [
    "Find all cells in relevant HuBMAP datasets, then compile a table that can then be used to predict a spatial origin with the HRA API."
   ]
  },
  {
   "cell_type": "markdown",
   "metadata": {},
   "source": [
    "# Install libraries"
   ]
  },
  {
   "cell_type": "code",
   "execution_count": 1,
   "metadata": {},
   "outputs": [
    {
     "name": "stdout",
     "output_type": "stream",
     "text": [
      "Defaulting to user installation because normal site-packages is not writeable\n",
      "Requirement already satisfied: hra_api_client in /home/bherr/.local/lib/python3.10/site-packages (0.10.0)\n",
      "Collecting hubmap_api_py_client\n",
      "  Downloading hubmap_api_py_client-0.0.11-py3-none-any.whl (8.3 kB)\n",
      "Requirement already satisfied: urllib3<2.1.0,>=1.25.3 in /home/bherr/.local/lib/python3.10/site-packages (from hra_api_client) (1.26.3)\n",
      "Requirement already satisfied: python-dateutil in /home/bherr/.local/lib/python3.10/site-packages (from hra_api_client) (2.8.2)\n",
      "Requirement already satisfied: typing-extensions>=4.7.1 in /home/bherr/.local/lib/python3.10/site-packages (from hra_api_client) (4.8.0)\n",
      "Requirement already satisfied: pydantic>=2 in /home/bherr/.local/lib/python3.10/site-packages (from hra_api_client) (2.7.1)\n",
      "Requirement already satisfied: requests>=2.0.0 in /home/bherr/.local/lib/python3.10/site-packages (from hubmap_api_py_client) (2.31.0)\n",
      "Requirement already satisfied: pydantic-core==2.18.2 in /home/bherr/.local/lib/python3.10/site-packages (from pydantic>=2->hra_api_client) (2.18.2)\n",
      "Requirement already satisfied: annotated-types>=0.4.0 in /home/bherr/.local/lib/python3.10/site-packages (from pydantic>=2->hra_api_client) (0.7.0)\n",
      "Requirement already satisfied: idna<4,>=2.5 in /home/bherr/.local/lib/python3.10/site-packages (from requests>=2.0.0->hubmap_api_py_client) (2.10)\n",
      "Requirement already satisfied: charset-normalizer<4,>=2 in /home/bherr/.local/lib/python3.10/site-packages (from requests>=2.0.0->hubmap_api_py_client) (3.0.1)\n",
      "Requirement already satisfied: certifi>=2017.4.17 in /home/bherr/.local/lib/python3.10/site-packages (from requests>=2.0.0->hubmap_api_py_client) (2022.12.7)\n",
      "Requirement already satisfied: six>=1.5 in /usr/lib/python3/dist-packages (from python-dateutil->hra_api_client) (1.16.0)\n",
      "Installing collected packages: hubmap_api_py_client\n",
      "Successfully installed hubmap_api_py_client-0.0.11\n"
     ]
    }
   ],
   "source": [
    "!pip install hra_api_client hubmap_api_py_client"
   ]
  },
  {
   "cell_type": "markdown",
   "metadata": {},
   "source": [
    "# Part 1: Get Cell Populations from HuBMAP Datasets using the Cells API"
   ]
  },
  {
   "cell_type": "code",
   "execution_count": 2,
   "metadata": {},
   "outputs": [],
   "source": [
    "import hra_api_client\n",
    "import hubmap_api_py_client\n",
    "from pprint import pprint\n",
    "from collections import Counter"
   ]
  },
  {
   "cell_type": "markdown",
   "metadata": {},
   "source": [
    "## Setup the HuBMAP Cells API Client"
   ]
  },
  {
   "cell_type": "code",
   "execution_count": 3,
   "metadata": {},
   "outputs": [],
   "source": [
    "from hubmap_api_py_client import Client\n",
    "endpoint_url = \"https://cells.api.hubmapconsortium.org/api/\"\n",
    "client = Client(endpoint_url) "
   ]
  },
  {
   "cell_type": "markdown",
   "metadata": {},
   "source": [
    "## Find cell types that have annotated datasets"
   ]
  },
  {
   "cell_type": "code",
   "execution_count": 4,
   "metadata": {},
   "outputs": [
    {
     "name": "stdout",
     "output_type": "stream",
     "text": [
      "cell types: 63\n"
     ]
    }
   ],
   "source": [
    "all_celltypes = client.select_celltypes()\n",
    "assert len(all_celltypes) > 0\n",
    "\n",
    "celltypes = [c[\"grouping_name\"] for c in all_celltypes.get_list()]\n",
    "print('cell types:', len(celltypes))"
   ]
  },
  {
   "cell_type": "markdown",
   "metadata": {},
   "source": [
    "## Find all datasets that have been annotated with cell types"
   ]
  },
  {
   "cell_type": "code",
   "execution_count": 5,
   "metadata": {},
   "outputs": [
    {
     "name": "stdout",
     "output_type": "stream",
     "text": [
      "annotated datasets with cell types: 45\n"
     ]
    }
   ],
   "source": [
    "datasets = client.select_datasets(where='celltype', has=celltypes).get_list()\n",
    "assert len(datasets) > 0\n",
    "\n",
    "uuids = [ d['uuid'] for d in datasets ]\n",
    "print('annotated datasets with cell types:', len(datasets))"
   ]
  },
  {
   "cell_type": "markdown",
   "metadata": {},
   "source": [
    "## Get cells for each annotated dataset"
   ]
  },
  {
   "cell_type": "code",
   "execution_count": 6,
   "metadata": {},
   "outputs": [
    {
     "name": "stdout",
     "output_type": "stream",
     "text": [
      "007f3dfaaa287d5c7c227651f61a9c5b top cell types: [('CL:0000057', 1868), ('CL:0000235', 621), ('CL:0002131', 532), ('CL:0002144', 310), ('CL:0000763', 273)]\n",
      "007f3dfaaa287d5c7c227651f61a9c5b organ: heart\n",
      "007f3dfaaa287d5c7c227651f61a9c5b modality: rna\n"
     ]
    }
   ],
   "source": [
    "dataset_cells = {}\n",
    "dataset_organ = {}\n",
    "dataset_modality = {}\n",
    "\n",
    "for uuid in uuids:\n",
    "    cells_in_dataset = client.select_cells(where='dataset', has=[uuid])\n",
    "    all_cells = cells_in_dataset.get_list().results_set.get_list()\n",
    "\n",
    "    population = Counter()\n",
    "    for cell in all_cells:\n",
    "        population[cell['cell_type']] += 1\n",
    "        dataset_organ[uuid] = cell['organ'].lower()\n",
    "        dataset_modality[uuid] = cell['modality']\n",
    "\n",
    "    dataset_cells[uuid] = population\n",
    "\n",
    "print(uuids[0], 'top cell types:', dataset_cells[uuids[0]].most_common(5))\n",
    "print(uuids[0], 'organ:', dataset_organ[uuids[0]])\n",
    "print(uuids[0], 'modality:', dataset_modality[uuids[0]])"
   ]
  },
  {
   "cell_type": "markdown",
   "metadata": {},
   "source": [
    "# Part 2: Predict Spatial Locations Using the HRA API"
   ]
  },
  {
   "cell_type": "markdown",
   "metadata": {},
   "source": [
    "## Setup the HRA API Client"
   ]
  },
  {
   "cell_type": "code",
   "execution_count": 7,
   "metadata": {},
   "outputs": [],
   "source": [
    "import hra_api_client\n",
    "from hra_api_client.api import v1_api, hra_pop_api\n",
    "\n",
    "hra_api_endpoint_url = \"https://apps.humanatlas.io/api\"\n",
    "configuration = hra_api_client.Configuration(hra_api_endpoint_url)\n",
    "api_client = hra_api_client.ApiClient(configuration)\n",
    "hra_api = v1_api.V1Api(api_client)\n",
    "hra_pop_api = hra_pop_api.HraPopApi(api_client)"
   ]
  },
  {
   "cell_type": "markdown",
   "metadata": {},
   "source": [
    "## Get supported organ lookup"
   ]
  },
  {
   "cell_type": "code",
   "execution_count": 8,
   "metadata": {},
   "outputs": [
    {
     "data": {
      "text/plain": [
       "{'small intestine': 'http://purl.obolibrary.org/obo/UBERON_0002108',\n",
       " 'heart': 'http://purl.obolibrary.org/obo/UBERON_0000948',\n",
       " 'kidney': 'http://purl.obolibrary.org/obo/UBERON_0002113',\n",
       " 'large intestine': 'http://purl.obolibrary.org/obo/UBERON_0000059',\n",
       " 'liver': 'http://purl.obolibrary.org/obo/UBERON_0002107',\n",
       " 'lung': 'http://purl.obolibrary.org/obo/UBERON_0002048',\n",
       " 'skin': 'http://purl.obolibrary.org/obo/UBERON_0002097',\n",
       " 'skin of body': 'http://purl.obolibrary.org/obo/UBERON_0002097',\n",
       " 'spleen': 'http://purl.obolibrary.org/obo/UBERON_0002106',\n",
       " 'ureter': 'http://purl.obolibrary.org/obo/UBERON_0000056',\n",
       " 'urinary bladder': 'http://purl.obolibrary.org/obo/UBERON_0001255'}"
      ]
     },
     "execution_count": 8,
     "metadata": {},
     "output_type": "execute_result"
    }
   ],
   "source": [
    "organ_lookup = dict((organ.label.lower(), organ.id) for organ in hra_pop_api.supported_organs())\n",
    "organ_lookup"
   ]
  },
  {
   "cell_type": "markdown",
   "metadata": {},
   "source": [
    "## Get HRApop cell summary reports for each dataset"
   ]
  },
  {
   "cell_type": "code",
   "execution_count": 9,
   "metadata": {},
   "outputs": [
    {
     "name": "stdout",
     "output_type": "stream",
     "text": [
      "007f3dfaaa287d5c7c227651f61a9c5b\n",
      "018a905cdbdff684760859f594d3fd77\n",
      "0b6f63f2bd61a8c091fc7afc0f318ad1\n",
      "149e1be22a4961f9c6240480710836a3\n",
      "173de2e80adf6a73ac8cff5ccce20dfc\n",
      "17f67cb15e59f65e640d85d2f3866cde\n",
      "1dc16eb0270ff73291dd45b6a96aa3c0\n",
      "1ea6c0ac5ba60fe35bf63af8699b6fbe\n",
      "224e01ccfc20977ee5a6a6a5b96aa7d7\n",
      "22684b9011fc5aea5cb3f89670a461e8\n",
      "33b9c54d7c295897826e1e5271d4fc24\n",
      "35e9bf0f58152ceb6f4d01052ac8867d\n",
      "367fee3b40cba682063289505b922be1\n",
      "37988db44acc8d0780e4e31cd057e789\n",
      "3c1b10bc912c60c9afc36b7423695236\n",
      "47015df8ab7615a9ce26098d88196dde\n",
      "4b62d9d2c248323ce029859f953fdc57\n",
      "524dc341a03c155b6f4140e9d72f9b1d\n",
      "56cbda4789f04d79c0c3dffe21816d48\n",
      "5a5ca03fa623602d9a859224aa40ace4\n",
      "5ee240959c96b49d960702755478b9fc\n",
      "62efbe0a6abd0bcf53ab9ab29e7cd73f\n",
      "63349325056ccff582f1d095055c7e12\n",
      "6e1db473492095ccc2f1393d7259b9c0\n",
      "7c9e07c96d144536525b1f889acee14d\n",
      "7d70a4deb9e2f0592f0c56e20ca91169\n",
      "898138b7f45a67c574e9955fb400e9be\n",
      "8cdb42ed1194255c74c8462b99bbd7ef\n",
      "8d631eee88855ac59155edca2a3bc1ca\n",
      "9a7e6be288b27ddbd3366c4ae41bbcd2\n",
      "a48ab0bf5d8084da24859c4e64336e9c\n",
      "ad693f99fb9006e68a53e97598da1509\n",
      "af5741dad7aecf7960a129c3d2ae642a\n",
      "b05c21f9c94ce1a22a9694cd0fe0291e\n",
      "b95f34761c252ebbd1e482cd9afae73f\n",
      "b99fc30c4195958fbef217fa9ed9ec8f\n",
      "c616de3ce57804ede2dd519a1c8addf2\n",
      "c81b0dc9d16eb825a7d6bce6e1b3678f\n",
      "d482512016a61ef479960e2cb58552f2\n",
      "dc4f4778dd04263c0660addcc93b3807\n",
      "dd7ccbc306692fc5ff5e61c22845da21\n",
      "e5f7a14d93659bd0b8dc2819ffa9bc4b\n",
      "f220c9e7bcaea3a87162cbe61287ea4d\n",
      "fae9a1f2e7abefca2203765a3c7a5ba1\n",
      "fe0ded5fc0355c95239f9c040dd31e99\n",
      "007f3dfaaa287d5c7c227651f61a9c5b has similar sources: 375\n",
      "007f3dfaaa287d5c7c227651f61a9c5b has similar RUI locations: 2\n"
     ]
    }
   ],
   "source": [
    "dataset_summary = {}\n",
    "\n",
    "for uuid in uuids:\n",
    "    organ_iri = organ_lookup[dataset_organ[uuid]]\n",
    "    total_count = sum(dataset_cells[uuid].values())\n",
    "    csv = \"\\n\".join([\"cell_id,percentage\"] + [ f\"{cell_id},{count / total_count}\" for (cell_id,count) in dataset_cells[uuid].items() ])\n",
    "    request = { \"organ\": organ_iri, \"csvString\": csv }\n",
    "    print(uuid)\n",
    "    dataset_summary[uuid] = hra_pop_api.cell_summary_report(request)\n",
    "\n",
    "print(uuids[0], 'has similar sources:', len(dataset_summary[uuids[0]]['sources']))\n",
    "print(uuids[0], 'has similar RUI locations:', len(dataset_summary[uuids[0]]['rui_locations']))"
   ]
  },
  {
   "cell_type": "code",
   "execution_count": 23,
   "metadata": {},
   "outputs": [
    {
     "name": "stdout",
     "output_type": "stream",
     "text": [
      "007f3dfaaa287d5c7c227651f61a9c5b anatomical structures with similar cell populations:\n",
      " heart left ventricle\n",
      " left cardiac atrium\n",
      " right cardiac atrium\n"
     ]
    }
   ],
   "source": [
    "similar_as = list(filter(lambda s: s['cell_source_type'] == \"http://purl.org/ccf/AnatomicalStructure\", dataset_summary[uuids[0]]['sources']))\n",
    "\n",
    "as_labels = list(sorted(set([ s['cell_source_label'].lower() for s in similar_as if s['similarity'] > 0.66 ])))\n",
    "print(uuids[0], 'anatomical structures with similar cell populations:\\n', '\\n '.join(as_labels))"
   ]
  }
 ],
 "metadata": {
  "kernelspec": {
   "display_name": "Python 3 (ipykernel)",
   "language": "python",
   "name": "python3"
  },
  "language_info": {
   "codemirror_mode": {
    "name": "ipython",
    "version": 3
   },
   "file_extension": ".py",
   "mimetype": "text/x-python",
   "name": "python",
   "nbconvert_exporter": "python",
   "pygments_lexer": "ipython3",
   "version": "3.10.12"
  }
 },
 "nbformat": 4,
 "nbformat_minor": 4
}
